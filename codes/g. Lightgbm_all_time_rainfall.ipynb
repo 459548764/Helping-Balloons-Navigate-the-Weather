{
 "cells": [
  {
   "cell_type": "code",
   "execution_count": 1,
   "metadata": {
    "collapsed": true
   },
   "outputs": [],
   "source": [
    "import lightgbm as lgb\n",
    "import pandas as pd\n",
    "from sklearn.metrics import mean_squared_error\n",
    "from sklearn.model_selection import GridSearchCV\n",
    "from sklearn.model_selection import train_test_split\n",
    "import pickle\n",
    "import os\n",
    "import glob\n",
    "import numpy as np\n",
    "import time"
   ]
  },
  {
   "cell_type": "markdown",
   "metadata": {},
   "source": [
    "# 1. Generate Temporal Features"
   ]
  },
  {
   "cell_type": "markdown",
   "metadata": {},
   "source": [
    "# Step1:  get index_list for get the temporal feature faster"
   ]
  },
  {
   "cell_type": "code",
   "execution_count": 2,
   "metadata": {
    "collapsed": true
   },
   "outputs": [],
   "source": [
    "def getNextHourIndexByCurHour(df_day, hour):\n",
    "    if hour == 20:\n",
    "        hour = 19\n",
    "    index_start = (hour - 3 + 1)*548*421\n",
    "    index_end = (hour - 3 + 2)*548*421\n",
    "    return range(index_start, index_end)"
   ]
  },
  {
   "cell_type": "code",
   "execution_count": 3,
   "metadata": {
    "collapsed": true
   },
   "outputs": [],
   "source": [
    "def getPreviousHourIndexByCurHour(df_day, hour):\n",
    "    if hour == 3:\n",
    "        hour = 4\n",
    "    index_start = (hour - 3 - 1)*548*421\n",
    "    index_end = (hour - 3)*548*421\n",
    "    return range(index_start, index_end)"
   ]
  },
  {
   "cell_type": "code",
   "execution_count": 4,
   "metadata": {
    "collapsed": true
   },
   "outputs": [],
   "source": [
    "df_rain_day1 = pd.read_csv('../dataset/rainfall_data_day1.csv')\n",
    "\n",
    "previous_hour_list = []\n",
    "for hour in range(3, 21):\n",
    "    previous_hour_list.append(getPreviousHourIndexByCurHour(df_rain_day1, hour))\n",
    "previous_hour_list = np.ravel(previous_hour_list)\n",
    "\n",
    "next_hour_list = []\n",
    "for hour in range(3, 21):\n",
    "    next_hour_list.append(getNextHourIndexByCurHour(df_rain_day1, hour))\n",
    "next_hour_list = np.ravel(next_hour_list)"
   ]
  },
  {
   "cell_type": "markdown",
   "metadata": {},
   "source": [
    "# Step2: Generate Training & Testing Sets Add Temporal Features"
   ]
  },
  {
   "cell_type": "code",
   "execution_count": 5,
   "metadata": {},
   "outputs": [
    {
     "name": "stdout",
     "output_type": "stream",
     "text": [
      "../dataset/rainfall_data_add_temporal_feature_day1.csv already exists\n",
      "../dataset/rainfall_data_add_temporal_feature_day2.csv already exists\n",
      "../dataset/rainfall_data_add_temporal_feature_day3.csv already exists\n",
      "../dataset/rainfall_data_add_temporal_feature_day4.csv already exists\n",
      "../dataset/rainfall_data_add_temporal_feature_day5.csv already exists\n",
      "../dataset/rainfall_data_add_temporal_feature_day6.csv already exists\n",
      "../dataset/rainfall_data_add_temporal_feature_day7.csv already exists\n",
      "../dataset/rainfall_data_add_temporal_feature_day8.csv already exists\n",
      "../dataset/rainfall_data_add_temporal_feature_day9.csv already exists\n",
      "../dataset/rainfall_data_add_temporal_feature_day10.csv already exists\n"
     ]
    }
   ],
   "source": [
    "for day in range(1, 11):\n",
    "    if os.path.exists('../dataset/rainfall_data_add_temporal_feature_day'+ str(day) +'.csv'):\n",
    "        print ('../dataset/rainfall_data_add_temporal_feature_day'+ str(day) +'.csv already exists')\n",
    "        continue\n",
    "    print((\"day {} is begin\").format(str(day)))\n",
    "    start = time.time()\n",
    "    df_day = pd.read_csv('../dataset/rainfall_data_day'+ str(day) + '.csv')\n",
    "    feature = ['predict_' + str(i) for i in range (1, 11, 1)]\n",
    "    df_day_previous_hour = df_day.iloc[previous_hour_list][feature]\n",
    "    feature_previous_hour = ['predict_' + str(i) + '_previous_hour' for i in range (1, 11, 1)]\n",
    "    df_day_previous_hour.columns = feature_previous_hour\n",
    "\n",
    "    df_day_next_hour = df_day.iloc[next_hour_list][feature]\n",
    "    feature_next_hour = ['predict_' + str(i) + '_next_hour' for i in range (1, 11, 1)]\n",
    "    df_day_next_hour.columns = feature_next_hour\n",
    "                 \n",
    "    df_day_previous_hour = df_day_previous_hour.reset_index(drop=True)\n",
    "    df_day_next_hour = df_day_next_hour.reset_index(drop=True)\n",
    "\n",
    "    df_day_concat = pd.concat([df_day, df_day_previous_hour, df_day_next_hour], axis=1)  \n",
    "    df_day_concat.to_csv('../dataset/rainfall_data_add_temporal_feature_day'+ str(day) +'.csv', index=False)\n",
    "    del df_day, df_day_concat, df_day_previous_hour, df_day_next_hour\n",
    "    print((\"day {} is done\").format(str(day)))\n",
    "    cost_time = time.time() - start\n",
    "    print((\"cost time: {0:.2f} min\").format(cost_time/60.0))"
   ]
  },
  {
   "cell_type": "markdown",
   "metadata": {},
   "source": [
    "# 2. Train Model"
   ]
  },
  {
   "cell_type": "code",
   "execution_count": 6,
   "metadata": {
    "scrolled": true
   },
   "outputs": [
    {
     "data": {
      "text/plain": [
       "(20763720, 34)"
      ]
     },
     "execution_count": 6,
     "metadata": {},
     "output_type": "execute_result"
    }
   ],
   "source": [
    "df = pd.DataFrame()\n",
    "for day in range(1, 6):\n",
    "    df_tmp = pd.read_csv('../dataset/rainfall_data_add_temporal_feature_day' + str(day) + '.csv')\n",
    "    df = pd.concat([df, df_tmp], axis=0)\n",
    "    del df_tmp\n",
    "df.shape"
   ]
  },
  {
   "cell_type": "code",
   "execution_count": 8,
   "metadata": {},
   "outputs": [
    {
     "name": "stdout",
     "output_type": "stream",
     "text": [
      "(20763720, 31) (20763720,)\n"
     ]
    }
   ],
   "source": [
    "cols = ['hour'] + ['predict_' + str(i) for i in range(1, 11)] + \\\n",
    "        ['predict_' + str(i) + '_previous_hour' for i in range(1, 11)] + \\\n",
    "            ['predict_' + str(i) + '_next_hour' for i in range(1, 11)]\n",
    "X = df[cols].values\n",
    "y = df['real'].values\n",
    "del df\n",
    "print (X.shape, y.shape)"
   ]
  },
  {
   "cell_type": "code",
   "execution_count": 12,
   "metadata": {
    "scrolled": true
   },
   "outputs": [
    {
     "ename": "MemoryError",
     "evalue": "",
     "output_type": "error",
     "traceback": [
      "\u001b[1;31m---------------------------------------------------------------------------\u001b[0m",
      "\u001b[1;31mMemoryError\u001b[0m                               Traceback (most recent call last)",
      "\u001b[1;32m<ipython-input-12-f9185c785a14>\u001b[0m in \u001b[0;36m<module>\u001b[1;34m()\u001b[0m\n\u001b[1;32m----> 1\u001b[1;33m \u001b[0mX_train\u001b[0m\u001b[1;33m,\u001b[0m \u001b[0mX_test\u001b[0m\u001b[1;33m,\u001b[0m \u001b[0my_train\u001b[0m\u001b[1;33m,\u001b[0m \u001b[0my_test\u001b[0m \u001b[1;33m=\u001b[0m \u001b[0mtrain_test_split\u001b[0m\u001b[1;33m(\u001b[0m\u001b[0mX\u001b[0m\u001b[1;33m,\u001b[0m \u001b[0my\u001b[0m\u001b[1;33m,\u001b[0m \u001b[0mtest_size\u001b[0m\u001b[1;33m=\u001b[0m\u001b[1;36m0.3\u001b[0m\u001b[1;33m)\u001b[0m\u001b[1;33m\u001b[0m\u001b[0m\n\u001b[0m\u001b[0;32m      2\u001b[0m \u001b[1;32mdel\u001b[0m \u001b[0mX\u001b[0m\u001b[1;33m,\u001b[0m \u001b[0my\u001b[0m\u001b[1;33m\u001b[0m\u001b[0m\n\u001b[0;32m      3\u001b[0m \u001b[0mprint\u001b[0m \u001b[1;33m(\u001b[0m\u001b[0mX_train\u001b[0m\u001b[1;33m.\u001b[0m\u001b[0mshape\u001b[0m\u001b[1;33m,\u001b[0m \u001b[0mX_test\u001b[0m\u001b[1;33m.\u001b[0m\u001b[0mshape\u001b[0m\u001b[1;33m)\u001b[0m\u001b[1;33m\u001b[0m\u001b[0m\n\u001b[0;32m      4\u001b[0m \u001b[1;33m\u001b[0m\u001b[0m\n\u001b[0;32m      5\u001b[0m \u001b[0mlgb_train\u001b[0m \u001b[1;33m=\u001b[0m \u001b[0mlgb\u001b[0m\u001b[1;33m.\u001b[0m\u001b[0mDataset\u001b[0m\u001b[1;33m(\u001b[0m\u001b[0mX_train\u001b[0m\u001b[1;33m,\u001b[0m \u001b[0mlabel\u001b[0m\u001b[1;33m=\u001b[0m\u001b[0my_train\u001b[0m\u001b[1;33m)\u001b[0m\u001b[1;33m\u001b[0m\u001b[0m\n",
      "\u001b[1;32mD:\\soft\\Anaconda3\\lib\\site-packages\\sklearn\\model_selection\\_split.py\u001b[0m in \u001b[0;36mtrain_test_split\u001b[1;34m(*arrays, **options)\u001b[0m\n\u001b[0;32m   2041\u001b[0m \u001b[1;33m\u001b[0m\u001b[0m\n\u001b[0;32m   2042\u001b[0m     return list(chain.from_iterable((safe_indexing(a, train),\n\u001b[1;32m-> 2043\u001b[1;33m                                      safe_indexing(a, test)) for a in arrays))\n\u001b[0m\u001b[0;32m   2044\u001b[0m \u001b[1;33m\u001b[0m\u001b[0m\n\u001b[0;32m   2045\u001b[0m \u001b[1;33m\u001b[0m\u001b[0m\n",
      "\u001b[1;32mD:\\soft\\Anaconda3\\lib\\site-packages\\sklearn\\model_selection\\_split.py\u001b[0m in \u001b[0;36m<genexpr>\u001b[1;34m(.0)\u001b[0m\n\u001b[0;32m   2041\u001b[0m \u001b[1;33m\u001b[0m\u001b[0m\n\u001b[0;32m   2042\u001b[0m     return list(chain.from_iterable((safe_indexing(a, train),\n\u001b[1;32m-> 2043\u001b[1;33m                                      safe_indexing(a, test)) for a in arrays))\n\u001b[0m\u001b[0;32m   2044\u001b[0m \u001b[1;33m\u001b[0m\u001b[0m\n\u001b[0;32m   2045\u001b[0m \u001b[1;33m\u001b[0m\u001b[0m\n",
      "\u001b[1;32mD:\\soft\\Anaconda3\\lib\\site-packages\\sklearn\\utils\\__init__.py\u001b[0m in \u001b[0;36msafe_indexing\u001b[1;34m(X, indices)\u001b[0m\n\u001b[0;32m    158\u001b[0m                                    indices.dtype.kind == 'i'):\n\u001b[0;32m    159\u001b[0m             \u001b[1;31m# This is often substantially faster than X[indices]\u001b[0m\u001b[1;33m\u001b[0m\u001b[1;33m\u001b[0m\u001b[0m\n\u001b[1;32m--> 160\u001b[1;33m             \u001b[1;32mreturn\u001b[0m \u001b[0mX\u001b[0m\u001b[1;33m.\u001b[0m\u001b[0mtake\u001b[0m\u001b[1;33m(\u001b[0m\u001b[0mindices\u001b[0m\u001b[1;33m,\u001b[0m \u001b[0maxis\u001b[0m\u001b[1;33m=\u001b[0m\u001b[1;36m0\u001b[0m\u001b[1;33m)\u001b[0m\u001b[1;33m\u001b[0m\u001b[0m\n\u001b[0m\u001b[0;32m    161\u001b[0m         \u001b[1;32melse\u001b[0m\u001b[1;33m:\u001b[0m\u001b[1;33m\u001b[0m\u001b[0m\n\u001b[0;32m    162\u001b[0m             \u001b[1;32mreturn\u001b[0m \u001b[0mX\u001b[0m\u001b[1;33m[\u001b[0m\u001b[0mindices\u001b[0m\u001b[1;33m]\u001b[0m\u001b[1;33m\u001b[0m\u001b[0m\n",
      "\u001b[1;31mMemoryError\u001b[0m: "
     ]
    }
   ],
   "source": [
    "X_train, X_test, y_train, y_test = train_test_split(X, y, test_size=0.3)\n",
    "del X, y\n",
    "print (X_train.shape, X_test.shape)\n",
    "\n",
    "lgb_train = lgb.Dataset(X_train, label=y_train)\n",
    "lgb_eval = lgb.Dataset(X_test, label=y_test, reference=lgb_train)"
   ]
  },
  {
   "cell_type": "code",
   "execution_count": null,
   "metadata": {
    "collapsed": true
   },
   "outputs": [],
   "source": [
    "params = {\n",
    "    'task': 'train',\n",
    "    'boosting_type': 'gbdt',\n",
    "    'objective': 'regression',\n",
    "    'metric': {'l2'},\n",
    "    'num_leaves': 550,\n",
    "    'learning_rate': 0.6,\n",
    "    'feature_fraction': 0.7,\n",
    "    'bagging_fraction': 0.8,\n",
    "    'bagging_freq': 5,\n",
    "    \n",
    "}\n",
    "\n",
    "print ('start training')\n",
    "\n",
    "gbm = lgb.train(params,\n",
    "                lgb_train,\n",
    "                num_boost_round=1500,\n",
    "                valid_sets=lgb_eval,  # eval training data\n",
    "                categorical_feature=[0], \n",
    "                early_stopping_rounds=10)"
   ]
  },
  {
   "cell_type": "markdown",
   "metadata": {},
   "source": [
    "# 3.predict"
   ]
  },
  {
   "cell_type": "code",
   "execution_count": null,
   "metadata": {
    "collapsed": true
   },
   "outputs": [],
   "source": [
    "for day in range(6, 11): \n",
    "    print ('start day {}'.format(day))\n",
    "    df_test = pd.read_csv('../dataset/rainfall_data_add_temporal_feature_day' + str(day) + '.csv')\n",
    "    cols = ['hour'] + ['predict_' + str(i) for i in range(1, 11, 1)]\n",
    "    X_test = df_test[cols].values\n",
    "    y = gbm.predict(X_test)\n",
    "    df_test['predict_final'] = y\n",
    "    df_to_csv = df_test[['xid', 'yid', 'hour', 'predict_final']]\n",
    "    df_to_csv.to_csv('../dataset/rainfall_data_day' + str(day) + '_lgb_time.csv')\n",
    "    del X_test, y, df_to_csv\n",
    "    \n",
    "    for i in range(3, 21):\n",
    "        t1 = time.time()\n",
    "        day_hour = df_test[df_test['hour'] == i]\n",
    "        df_real_day = day_hour.copy()\n",
    "        xid = df_real_day[df_real_day['hour'] == i]['xid']\n",
    "        yid = df_real_day[df_real_day['hour'] == i]['yid'] \n",
    "        rainfall = df_real_day[df_real_day['hour'] == i]['predict_final']\n",
    "        df_test_hour = pd.DataFrame({'xid': list(xid),\n",
    "                      'yid': list(yid),\n",
    "                      'rainfall': list(rainfall)})\n",
    "        pt = df_test_hour.pivot_table(index='xid', columns='yid', values='rainfall', aggfunc=np.sum)\n",
    "        with open('../dataset/day' + str(day) + 'hour'+ str(i) +'.pickle', 'wb') as f:\n",
    "            pickle.dump(pt, f)\n",
    "        t2 = time.time()\n",
    "        print ('cost {}s'.format(t2 - t1))"
   ]
  },
  {
   "cell_type": "code",
   "execution_count": null,
   "metadata": {
    "collapsed": true
   },
   "outputs": [],
   "source": [
    "for day in range(6, 11, 1):\n",
    "    for hour in range(3, 21):\n",
    "        with open('../dataset/day' + str(day) + '/day' + str(day) + 'hour'+ str(hour) + '.pickle', 'rb') as f:\n",
    "            wind_map = pickle.load(f)\n",
    "        wind_map[wind_map < 0] = 0\n",
    "        with open('../dataset/day' + str(day) + '/day' + str(day) + 'hour'+ str(hour) + '.pickle', 'wb') as f:\n",
    "            pickle.dump(wind_map, f)\n",
    "            print ('day' + str(day) + 'hour'+ str(hour) +  'done')"
   ]
  },
  {
   "cell_type": "markdown",
   "metadata": {},
   "source": [
    "# 4. generate the rain matrix"
   ]
  },
  {
   "cell_type": "code",
   "execution_count": null,
   "metadata": {
    "collapsed": true
   },
   "outputs": [],
   "source": [
    "for day in range(6, 11):\n",
    "    dirpath = '../dataset/'\n",
    "    wind_matrix = -1\n",
    "    for hour in range(3, 21, 1):\n",
    "        filename = 'day'+ str(day) +'hour' + str(hour) + '.pickle'\n",
    "        with open(os.path.join(dirpath, filename), 'rb') as f:\n",
    "            matrix = np.array(pickle.load(f, encoding='latin1'))\n",
    "\n",
    "        if isinstance(wind_matrix, int):\n",
    "            wind_matrix = matrix[:, :, np.newaxis]\n",
    "        else:\n",
    "            wind_matrix = np.concatenate([wind_matrix, matrix[:, :, np.newaxis]], axis=2)\n",
    "    dirpath = '../dataset/day' + str(day) \n",
    "    with open(os.path.join(dirpath, 'rain_matrix_lgb_time.pickle'), 'wb') as f:\n",
    "        pickle.dump(wind_matrix, f)"
   ]
  }
 ],
 "metadata": {
  "kernelspec": {
   "display_name": "Python 3",
   "language": "python",
   "name": "python3"
  },
  "language_info": {
   "codemirror_mode": {
    "name": "ipython",
    "version": 3
   },
   "file_extension": ".py",
   "mimetype": "text/x-python",
   "name": "python",
   "nbconvert_exporter": "python",
   "pygments_lexer": "ipython3",
   "version": "3.6.1"
  }
 },
 "nbformat": 4,
 "nbformat_minor": 2
}
