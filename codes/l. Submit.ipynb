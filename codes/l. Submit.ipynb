{
 "cells": [
  {
   "cell_type": "markdown",
   "metadata": {},
   "source": [
    "# Make sure that you have 50 pickles in the [ dataset/result ] directory before running this code"
   ]
  },
  {
   "cell_type": "code",
   "execution_count": 1,
   "metadata": {
    "collapsed": true
   },
   "outputs": [],
   "source": [
    "import pandas as pd\n",
    "import numpy as np\n",
    "from datetime import *\n",
    "import os\n",
    "import pickle\n",
    "import glob\n",
    "import re\n",
    "import time"
   ]
  },
  {
   "cell_type": "code",
   "execution_count": 2,
   "metadata": {
    "collapsed": true
   },
   "outputs": [],
   "source": [
    "# 单条路径\n",
    "def sub(path_x, path_y, target, date):\n",
    "    sub_df = pd.DataFrame(columns=['target','date','time','xid','yid'])\n",
    "    path_length = len(path_x)\n",
    "    sub_df.xid = path_x\n",
    "    sub_df.yid = path_y\n",
    "    sub_df.xid = sub_df.xid.astype(np.int32)\n",
    "    sub_df.yid = sub_df.yid.astype(np.int32)\n",
    "    sub_df.target = target\n",
    "    sub_df.date = date\n",
    "    # add time\n",
    "    ti = datetime(2017,12,4,3,0)\n",
    "    tm = [ti.strftime('%H:%M')]\n",
    "    for i in range(path_length - 1):\n",
    "        ti = ti + timedelta(minutes=2)\n",
    "        tm.append(ti.strftime('%H:%M'))\n",
    "    sub_df.time = tm\n",
    "    return sub_df"
   ]
  },
  {
   "cell_type": "code",
   "execution_count": 3,
   "metadata": {
    "collapsed": true
   },
   "outputs": [],
   "source": [
    "# 多条路径合并\n",
    "def sub_concat(sub_list):\n",
    "    sub_csv = pd.DataFrame(columns=['target','date','time','xid','yid'])\n",
    "    for i in range(len(sub_list)):\n",
    "        sub_one = sub_list[i]\n",
    "        sub_csv = pd.concat([sub_csv, sub_one],axis=0)\n",
    "    sub_csv.target = sub_csv.target.astype(np.int32)\n",
    "    sub_csv.date = sub_csv.date.astype(np.int32)\n",
    "    sub_csv.xid = sub_csv.xid.astype(np.int32)\n",
    "    sub_csv.yid = sub_csv.yid.astype(np.int32)\n",
    "    return sub_csv"
   ]
  },
  {
   "cell_type": "code",
   "execution_count": 4,
   "metadata": {
    "scrolled": true
   },
   "outputs": [
    {
     "name": "stdout",
     "output_type": "stream",
     "text": [
      "day10path1 is 366\n",
      "day10path10 is 602\n",
      "day10path2 is 290\n",
      "day10path3 is 214\n",
      "day10path4 is 440\n",
      "day10path5 is 730\n",
      "day10path6 is 706\n",
      "day10path7 is 944\n",
      "day10path8 is 716\n",
      "day10path9 is 182\n",
      "day6path1 is 862\n",
      "day6path10 is 1054\n",
      "day6path2 is 594\n",
      "day6path3 is 1062\n",
      "day6path4 is 1050\n",
      "day6path5 is 1046\n",
      "day6path6 is 878\n",
      "day6path7 is 880\n",
      "day6path8 is 878\n",
      "day6path9 is 938\n",
      "day7path1 is 658\n",
      "day7path10 is 1018\n",
      "day7path2 is 834\n",
      "day7path3 is 278\n",
      "day7path4 is 404\n",
      "day7path5 is 1050\n",
      "day7path6 is 710\n",
      "day7path7 is 1078\n",
      "day7path8 is 1060\n",
      "day7path9 is 778\n",
      "day8path1 is 1074\n",
      "day8path10 is 994\n",
      "day8path2 is 1046\n",
      "day8path3 is 1022\n",
      "day8path4 is 1034\n",
      "day8path5 is 1014\n",
      "day8path6 is 1058\n",
      "day8path7 is 1054\n",
      "day8path8 is 1066\n",
      "day8path9 is 1046\n",
      "day9path1 is 412\n",
      "day9path10 is 778\n",
      "day9path2 is 1078\n",
      "day9path3 is 238\n",
      "day9path4 is 762\n",
      "day9path5 is 720\n",
      "day9path6 is 882\n",
      "day9path7 is 1000\n",
      "day9path8 is 978\n",
      "day9path9 is 1018\n",
      "there are 50 paths. \n",
      "cost 40574 min\n"
     ]
    }
   ],
   "source": [
    "sub_list = []\n",
    "time_cost = 60 * 24 * 50\n",
    "path_count = 0\n",
    "for file_path in glob.glob('../dataset/result/*.pickle'):\n",
    "    filename = os.path.basename(file_path)\n",
    "    if filename.startswith('part'):\n",
    "        continue\n",
    "    with open(file_path, 'rb') as f:\n",
    "        path_list = pickle.load(f)\n",
    "    path_count += 1\n",
    "    time_cost = time_cost - 60 * 24 + 2 * (len(path_list) - 1)\n",
    "    print ('{} is {}'.format(filename.split('.')[0], 2 * (len(path_list) - 1)))\n",
    "    path_x = []\n",
    "    path_y = []\n",
    "    for i in range(len(path_list)):\n",
    "        path_x.append(path_list[i][0])\n",
    "        path_y.append(path_list[i][1])\n",
    "    file_name = os.path.basename(file_path)\n",
    "    date_tar = re.findall('\\d+', file_name)\n",
    "    sub_df = sub(path_x, path_y, int(date_tar[1]), int(date_tar[0]))\n",
    "    sub_list.append(sub_df)\n",
    "print ('there are {} paths. \\ncost {} min'.format(path_count, time_cost))\n",
    "sub_csv = sub_concat(sub_list)"
   ]
  },
  {
   "cell_type": "code",
   "execution_count": 5,
   "metadata": {
    "collapsed": true
   },
   "outputs": [],
   "source": [
    "sub_csv.to_csv('../dataset/result/result.csv', index=False, header=False)"
   ]
  },
  {
   "cell_type": "code",
   "execution_count": 6,
   "metadata": {
    "collapsed": true
   },
   "outputs": [],
   "source": [
    "df = pd.read_csv('../dataset/result/result.csv', header=None)\n",
    "df.columns = ['tar_id', 'day', 'time', 'xid', 'yid']"
   ]
  },
  {
   "cell_type": "code",
   "execution_count": 7,
   "metadata": {
    "collapsed": true
   },
   "outputs": [],
   "source": [
    "def getTimeDiff(timeStra,timeStrb):\n",
    "    ha, ma = timeStra.split(':')\n",
    "    ha, ma = int(ha), int(ma)\n",
    "    hb, mb = timeStrb.split(':')\n",
    "    hb, mb = int(hb), int(mb)\n",
    "    if ha > hb:\n",
    "        print ('wrong order')\n",
    "        return 0\n",
    "    if ha == hb:\n",
    "        dt = abs(ma - mb)\n",
    "        if dt < 10:\n",
    "            print ('**************************************************************')\n",
    "            print ('danger path')\n",
    "        return dt\n",
    "    else:\n",
    "        dt = 60 * (hb - ha - 1) + 60 - ma + mb\n",
    "    return dt"
   ]
  },
  {
   "cell_type": "code",
   "execution_count": 8,
   "metadata": {
    "collapsed": true
   },
   "outputs": [],
   "source": [
    "def func(x):\n",
    "    h, m = x[1].split(':')\n",
    "    h, m = int(h), int(m)\n",
    "    return h * 60 + m"
   ]
  },
  {
   "cell_type": "code",
   "execution_count": 9,
   "metadata": {},
   "outputs": [
    {
     "name": "stdout",
     "output_type": "stream",
     "text": [
      "day 10\n",
      "[(1, '03:00'), (3, '03:10'), (6, '03:20'), (8, '03:30'), (9, '03:54'), (4, '04:10'), (2, '04:30'), (5, '07:50'), (7, '08:20'), (10, '09:40')]\n",
      "[10, 10, 10, 24, 16, 20, 200, 30, 80]\n",
      "day 6\n",
      "[(6, '03:00'), (7, '05:18'), (8, '05:28'), (2, '09:34'), (1, '11:16'), (5, '13:06'), (4, '14:28'), (9, '16:30'), (10, '17:12'), (3, '17:30')]\n",
      "[138, 10, 246, 102, 110, 82, 122, 42, 18]\n",
      "day 7\n",
      "[(6, '03:30'), (4, '03:42'), (3, '03:58'), (8, '07:32'), (1, '07:52'), (7, '10:34'), (5, '13:10'), (2, '13:34'), (9, '13:50'), (10, '16:36')]\n",
      "[12, 16, 214, 20, 162, 156, 24, 16, 166]\n",
      "day 8\n",
      "[(8, '07:00'), (6, '09:24'), (7, '10:10'), (5, '12:34'), (4, '14:12'), (1, '14:48'), (10, '16:12'), (3, '16:50'), (2, '17:06'), (9, '18:18')]\n",
      "[144, 46, 144, 98, 36, 84, 38, 16, 72]\n",
      "day 9\n",
      "[(1, '03:10'), (3, '03:46'), (6, '05:40'), (7, '05:56'), (8, '07:28'), (5, '07:40'), (4, '09:40'), (10, '12:36'), (2, '17:38'), (9, '17:50')]\n",
      "[36, 114, 16, 92, 12, 120, 176, 302, 12]\n"
     ]
    }
   ],
   "source": [
    "del_idx = []\n",
    "for day in df.day.unique():\n",
    "    print ('day {}'.format(day))\n",
    "    start_time = {}\n",
    "    for tar in df.tar_id.unique():\n",
    "        tmp = df[(df['tar_id'] == tar) & (df['day'] == day)]\n",
    "        for index, row in tmp.iterrows():\n",
    "            if row.xid == 142 and row.yid == 328:\n",
    "                del_idx.append(index)\n",
    "            else:\n",
    "                start_time[tar] = df.iloc[del_idx[-1]].time\n",
    "                del_idx.pop(-1)\n",
    "                break\n",
    "    start_time = sorted(start_time.items(), key=func)\n",
    "    print (start_time)\n",
    "    dt = []\n",
    "    for k in range(len(start_time) - 1):\n",
    "        dt.append(getTimeDiff(start_time[k][1], start_time[k + 1][1]))\n",
    "    print (dt)"
   ]
  },
  {
   "cell_type": "code",
   "execution_count": 10,
   "metadata": {
    "collapsed": true
   },
   "outputs": [],
   "source": [
    "df = df.drop(del_idx)\n",
    "df.to_csv('../dataset/result/result.csv', index=False, header=False)"
   ]
  }
 ],
 "metadata": {
  "kernelspec": {
   "display_name": "Python 3",
   "language": "python",
   "name": "python3"
  },
  "language_info": {
   "codemirror_mode": {
    "name": "ipython",
    "version": 3
   },
   "file_extension": ".py",
   "mimetype": "text/x-python",
   "name": "python",
   "nbconvert_exporter": "python",
   "pygments_lexer": "ipython3",
   "version": "3.6.1"
  }
 },
 "nbformat": 4,
 "nbformat_minor": 2
}
