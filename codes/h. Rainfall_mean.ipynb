{
 "cells": [
  {
   "cell_type": "code",
   "execution_count": 1,
   "metadata": {
    "collapsed": true
   },
   "outputs": [],
   "source": [
    "import pandas as pd\n",
    "import pickle\n",
    "import os\n",
    "import glob\n",
    "import time\n",
    "import numpy as np"
   ]
  },
  {
   "cell_type": "code",
   "execution_count": 2,
   "metadata": {
    "collapsed": true
   },
   "outputs": [],
   "source": [
    "features = ['predict_' + str(i) for i in range(1, 11)] \n",
    "for day in range(6, 10):\n",
    "    df = pd.read_csv('../dataset/rainfall_data_day' + str(day) + '.csv')\n",
    "    df['mean'] = df[features].mean(axis=1)\n",
    "    for i in range(3, 21):\n",
    "        day_hour = df[df['hour'] == i]\n",
    "        df_real_day = day_hour.copy()\n",
    "        xid = df_real_day[df_real_day['hour'] == i]['xid']\n",
    "        yid = df_real_day[df_real_day['hour'] == i]['yid'] \n",
    "        rainfall = df_real_day[df_real_day['hour'] == i]['mean']\n",
    "        df_test_hour = pd.DataFrame({'xid': list(xid),\n",
    "                      'yid': list(yid),\n",
    "                      'rainfall': list(rainfall)})\n",
    "        pt = df_test_hour.pivot_table(index='xid', columns='yid', values='rainfall', aggfunc=np.sum)\n",
    "        store_dir = '../dataset/'\n",
    "        if not os.path.exists(store_dir):\n",
    "            os.mkdir(store_dir)\n",
    "        with open(os.path.join(store_dir, 'rainfall_day' + str(day) + 'hour'+ str(i) +'.pickle'), 'wb') as f:\n",
    "            pickle.dump(pt.values, f)"
   ]
  },
  {
   "cell_type": "code",
   "execution_count": 3,
   "metadata": {
    "collapsed": true
   },
   "outputs": [],
   "source": [
    "for day in range(6, 10):\n",
    "    dirpath ='../dataset/'\n",
    "    wind_matrix = -1\n",
    "    for hour in range(3, 21, 1):\n",
    "        filename = 'rainfall_day'+ str(day) +'hour' + str(hour) + '.pickle'\n",
    "        with open(os.path.join(dirpath, filename), 'rb') as f:\n",
    "            matrix = np.array(pickle.load(f, encoding='latin1'))\n",
    "\n",
    "        if isinstance(wind_matrix, int):\n",
    "            wind_matrix = matrix[:, :, np.newaxis]\n",
    "        else:\n",
    "            wind_matrix = np.concatenate([wind_matrix, matrix[:, :, np.newaxis]], axis=2)\n",
    "    dirpath = '../dataset/day' + str(day)\n",
    "    with open(os.path.join(dirpath, 'rain_matrix_mean.pickle'), 'wb') as f:\n",
    "        pickle.dump(wind_matrix, f)"
   ]
  }
 ],
 "metadata": {
  "kernelspec": {
   "display_name": "Python 3",
   "language": "python",
   "name": "python3"
  },
  "language_info": {
   "codemirror_mode": {
    "name": "ipython",
    "version": 3
   },
   "file_extension": ".py",
   "mimetype": "text/x-python",
   "name": "python",
   "nbconvert_exporter": "python",
   "pygments_lexer": "ipython3",
   "version": "3.6.1"
  }
 },
 "nbformat": 4,
 "nbformat_minor": 2
}
